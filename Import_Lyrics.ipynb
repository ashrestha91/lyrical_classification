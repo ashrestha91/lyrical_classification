{
 "cells": [
  {
   "cell_type": "code",
   "execution_count": 1,
   "metadata": {
    "collapsed": true
   },
   "outputs": [],
   "source": [
    "from pymongo import MongoClient\n",
    "client = MongoClient()\n",
    "db = client[\"lyrical_classifier\"]\n",
    "song_coll = db[\"songs\"]"
   ]
  },
  {
   "cell_type": "code",
   "execution_count": 2,
   "metadata": {
    "collapsed": true
   },
   "outputs": [],
   "source": [
    "import requests\n",
    "artist_name=\"Kendrick Lamar\"\n",
    "r = requests.get(\"https://api.spotify.com/v1/search?q={name}&type=track&market=US&limit=50\".format(name=artist_name))"
   ]
  },
  {
   "cell_type": "code",
   "execution_count": 3,
   "metadata": {
    "collapsed": false
   },
   "outputs": [],
   "source": [
    "matching_artist = filter(lambda track: track[\"artists\"][0][\"name\"].lower() == artist_name.lower(), r.json()[\"tracks\"][\"items\"])\n",
    "\n",
    "seen_songs = set()\n",
    "songs = []\n",
    "for track in matching_artist:\n",
    "    if not track[\"name\"] in seen_songs:\n",
    "        seen_songs.add(track[\"name\"])\n",
    "        songs.append(track)"
   ]
  },
  {
   "cell_type": "code",
   "execution_count": null,
   "metadata": {
    "collapsed": false
   },
   "outputs": [],
   "source": [
    "from bs4 import BeautifulSoup\n",
    "\n",
    "for track in songs:\n",
    "    try:\n",
    "        song_name = track[\"name\"].encode(\"ascii\", \"replace\")\n",
    "        spotify_id = track[\"id\"]\n",
    "        album_name = track[\"album\"][\"name\"]\n",
    "        \n",
    "        search_song = requests.get(\"http://search.azlyrics.com/search.php?q={artist_name} {song_name}\".format(artist_name=\"Kendrick Lamar\", song_name=song_name))\n",
    "        soup = BeautifulSoup(search_song.text, 'html.parser')\n",
    "        lyrics_url = soup.select(\"tr a\")[0]['href']\n",
    "        print lyrics_url\n",
    "        \n",
    "        lyrics_page = requests.get(lyrics_url, headers = {\"User-Agent\": \"Mozilla/5.0 (X11; Ubuntu; Linux x86_64; rv:39.0) Gecko/20100101 Firefox/39.0\"})\n",
    "        lyrics_soup = BeautifulSoup(lyrics_page.content, 'html.parser')\n",
    "        lyrics = lyrics_soup.select(\".col-xs-12.col-lg-8.text-center div\")[7].get_text()\n",
    "        \n",
    "        song_coll.update({\n",
    "                \"spotify_id\": spotify_id\n",
    "            },{\n",
    "                \"spotify_id\": spotify_id,\n",
    "                \"artist\": artist_name,\n",
    "                \"song\": song_name,\n",
    "                \"album\": album_name,\n",
    "                \"lyrics\": lyrics.encode('ascii', 'ignore')\n",
    "            }, upsert=True)\n",
    "    except StandardError as e:\n",
    "        print e"
   ]
  }
 ],
 "metadata": {
  "kernelspec": {
   "display_name": "Python 2",
   "language": "python",
   "name": "python2"
  },
  "language_info": {
   "codemirror_mode": {
    "name": "ipython",
    "version": 2
   },
   "file_extension": ".py",
   "mimetype": "text/x-python",
   "name": "python",
   "nbconvert_exporter": "python",
   "pygments_lexer": "ipython2",
   "version": "2.7.6"
  }
 },
 "nbformat": 4,
 "nbformat_minor": 0
}
